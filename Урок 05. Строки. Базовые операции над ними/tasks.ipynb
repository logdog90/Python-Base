{
 "cells": [
  {
   "cell_type": "code",
   "execution_count": 2,
   "metadata": {},
   "outputs": [
    {
     "name": "stdout",
     "output_type": "stream",
     "text": [
      "hello python i love you\n"
     ]
    }
   ],
   "source": [
    "# Напишите программу ввода двух строк (каждая вводится с новой строки) и их объединения в одну строку через пробел. \n",
    "# Результат выведите на экран.\n",
    "\n",
    "a = input()\n",
    "b = input()\n",
    "print(a + \" \" + b)"
   ]
  },
  {
   "cell_type": "code",
   "execution_count": 3,
   "metadata": {},
   "outputs": [
    {
     "name": "stdout",
     "output_type": "stream",
     "text": [
      "787878\n"
     ]
    }
   ],
   "source": [
    "# Какой результат получится при выполнении команды: (1+2)*('7'+'8')? \n",
    "# Ответ нужно записать без запуска этой программы.\n",
    "\n",
    "print((1 + 2) * ('7' + '8'))"
   ]
  },
  {
   "cell_type": "code",
   "execution_count": 110,
   "metadata": {},
   "outputs": [
    {
     "name": "stdout",
     "output_type": "stream",
     "text": [
      "hello hello python python python\n"
     ]
    }
   ],
   "source": [
    "# Напишите программу ввода двух слов через пробел. Сформируйте новую строку, продублировав первое слово дважды, \n",
    "# а второе - трижды (все слова в результирующей строке должны идти через пробел). Результат выведите на экран.\n",
    "# Программу следует реализовать без использования F-строк, а с применением оператора дублирования строк.\n",
    "\n",
    "a, b = map(str.strip, input().split())\n",
    "print((a + \" \") * 2, ((b + \" \") * 3).strip(), sep='')\n",
    "\n"
   ]
  },
  {
   "cell_type": "code",
   "execution_count": 112,
   "metadata": {},
   "outputs": [
    {
     "name": "stdout",
     "output_type": "stream",
     "text": [
      "Переменная a = 2, переменная b = -5\n"
     ]
    }
   ],
   "source": [
    "# Выполняется считывание двух целочисленных значений в переменные a и b (вводятся в одну строчку через пробел). \n",
    "# Необходимо сформировать строку вида: \"Переменная a = <значение>, переменная b = <значение>\", \n",
    "# используя оператор конкатенации (соединения) строк. Результат выведите на экран.\n",
    "# F-строки в программе не использовать.\n",
    "\n",
    "a, b = map(int, input().split())\n",
    "print(\"Переменная a = \" + str(a) + \",\" + \" переменная b = \" + str(b))"
   ]
  },
  {
   "cell_type": "code",
   "execution_count": 114,
   "metadata": {},
   "outputs": [
    {
     "name": "stdout",
     "output_type": "stream",
     "text": [
      "Строка: hello Balakirev. Длина: 15\n"
     ]
    }
   ],
   "source": [
    "# Написать программу ввода строки и формирования новой строчки вида: \n",
    "# \"Строка: <введенная строка>. Длина: <длина строки>\". \n",
    "# Результат сформированной строки вывести на экран.\n",
    "# В программе F-строки не использовать.\n",
    "\n",
    "a = input()\n",
    "print('Строка: ' + a + '. ' + 'Длина: ' + str(len(a)))"
   ]
  },
  {
   "cell_type": "code",
   "execution_count": 115,
   "metadata": {},
   "outputs": [
    {
     "name": "stdout",
     "output_type": "stream",
     "text": [
      "False False False True\n"
     ]
    }
   ],
   "source": [
    "# Написать программу ввода двух слов (через пробел в одну строчку). \n",
    "# Определить булевы значения для оператора in проверки вхождения первого слова во второе. \n",
    "# А также для операторов ==, >, <. Все булевые значения объединить в одну строку через пробел и вывести на экран.\n",
    "\n",
    "a, b = map(str, input().split())\n",
    "s = a in b\n",
    "x = a == b\n",
    "y = a > b\n",
    "z = a < b\n",
    "print(s, x, y, z)"
   ]
  },
  {
   "cell_type": "code",
   "execution_count": 122,
   "metadata": {},
   "outputs": [
    {
     "name": "stdout",
     "output_type": "stream",
     "text": [
      "Коды: a = 97, z = 122\n"
     ]
    }
   ],
   "source": [
    "# С клавиатуры вводятся две буквы (в одну строку через пробел). \n",
    "# Вывести на экран следующую строку: \"Коды: <буква1> = <код буквы1>, <буква2> = <код буквы2>\" \n",
    "# Коды: a = 97, z = 122\n",
    "\n",
    "a, b = map(str, input().split())\n",
    "# print(f\"Коды: {a} = {ord(a)}, {b} = {ord(b)}\")\n",
    "print(\"Коды: \" + a + \" = \" + str(ord(a)) + \",\", b + \" = \" + str(ord(b)))"
   ]
  }
 ],
 "metadata": {
  "interpreter": {
   "hash": "2be5faf79681da6f2a61fdfdd5405d65d042280f7fba6178067603e3a2925119"
  },
  "kernelspec": {
   "display_name": "Python 3.10.2 64-bit",
   "language": "python",
   "name": "python3"
  },
  "language_info": {
   "codemirror_mode": {
    "name": "ipython",
    "version": 3
   },
   "file_extension": ".py",
   "mimetype": "text/x-python",
   "name": "python",
   "nbconvert_exporter": "python",
   "pygments_lexer": "ipython3",
   "version": "3.10.2"
  },
  "orig_nbformat": 4
 },
 "nbformat": 4,
 "nbformat_minor": 2
}
