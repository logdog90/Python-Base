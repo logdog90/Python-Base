{
 "cells": [
  {
   "cell_type": "code",
   "execution_count": 1,
   "metadata": {},
   "outputs": [
    {
     "name": "stdout",
     "output_type": "stream",
     "text": [
      "In\n"
     ]
    }
   ],
   "source": [
    "# Напишите программу ввода строки и отображения на экране ее первого и последнего символа в виде одной строки.\n",
    "# Входные данные - I love Python\n",
    "# Данные на выходе - In\n",
    "\n",
    "s = input()\n",
    "print(s[0], s[-1], sep='')"
   ]
  },
  {
   "cell_type": "code",
   "execution_count": 7,
   "metadata": {},
   "outputs": [
    {
     "name": "stdout",
     "output_type": "stream",
     "text": [
      "pand\n"
     ]
    }
   ],
   "source": [
    "# Напишите программу отображения первых четырех символов из введенной строки. \n",
    "# Будем полагать, что строка гарантированно длиной не менее четырех символов.\n",
    "# Входные данные - panda\n",
    "# Данные на выходе - pand\n",
    "\n",
    "a = input()\n",
    "print(a[:4])"
   ]
  },
  {
   "cell_type": "code",
   "execution_count": 13,
   "metadata": {},
   "outputs": [
    {
     "name": "stdout",
     "output_type": "stream",
     "text": [
      "rev\n"
     ]
    }
   ],
   "source": [
    "# Напишите программу отображения последних трех символов из введенной строки. \n",
    "# Будем полагать, что строка гарантированно длиной не менее трех символов.\n",
    "# Входные данные - Balakirev\n",
    "# Данные на выходе - rev\n",
    "a = input()\n",
    "print(a[-3:-1] + a[-1])"
   ]
  },
  {
   "cell_type": "code",
   "execution_count": 18,
   "metadata": {},
   "outputs": [
    {
     "name": "stdout",
     "output_type": "stream",
     "text": [
      "aaie\n"
     ]
    }
   ],
   "source": [
    "# Напишите программу отображения всех символов с нечетными индексами из введенной строки.\n",
    "# Входные данные - Balakirev\n",
    "# Данные на выходе - aaie\n",
    "a = input()\n",
    "print(a[1::2])"
   ]
  },
  {
   "cell_type": "code",
   "execution_count": 25,
   "metadata": {},
   "outputs": [
    {
     "name": "stdout",
     "output_type": "stream",
     "text": [
      "Hlo yhn\n"
     ]
    }
   ],
   "source": [
    "# Вводятся две строки (каждая с новой строчки). Из первой строки выделить все символы с четными индексами, \n",
    "# а из второй - с нечетными. Объединить строки через пробел и вывести на экран.\n",
    "# Входные данные - \n",
    "# Hello\n",
    "# Python\n",
    "# Данные на выходе - Hlo yhn\n",
    "a = input()\n",
    "b = input()\n",
    "print(a[::2], b[1::2])"
   ]
  },
  {
   "cell_type": "code",
   "execution_count": 67,
   "metadata": {},
   "outputs": [
    {
     "name": "stdout",
     "output_type": "stream",
     "text": [
      "karba\n"
     ]
    }
   ],
   "source": [
    "# Из введенной строки отобразить первые пять символов в обратном порядке. \n",
    "# Полагается, что введенная строка имеет минимум пять символов.\n",
    "# Входные данные - abrakadabra\n",
    "# Данные на выходе - karba\n",
    "a = input()\n",
    "print(a[4::-1])\n"
   ]
  },
  {
   "cell_type": "code",
   "execution_count": 76,
   "metadata": {},
   "outputs": [
    {
     "name": "stdout",
     "output_type": "stream",
     "text": [
      "Balak\n"
     ]
    }
   ],
   "source": [
    "# Вводятся два слова (через пробел в одной строке). Длина первого слова меньше второго. \n",
    "# Необходимо обрезать второе слово до длины первого и отобразить обрезанное слово на экране.\n",
    "# Входные данные - Hello Balakirev\n",
    "# Данные на выходе - Balak\n",
    "a = input()\n",
    "print(a[6:11])"
   ]
  },
  {
   "cell_type": "code",
   "execution_count": 78,
   "metadata": {},
   "outputs": [
    {
     "name": "stdout",
     "output_type": "stream",
     "text": [
      "True\n"
     ]
    }
   ],
   "source": [
    "# Вводятся два слова (через пробел в одной строке). Длина второго слова меньше первого. \n",
    "# Из этих слов выделить символы с нечетными индексами с обрезкой первого слова до длины второго. \n",
    "# Сравнить полученные строки между собой на равенство и результат (True или False) вывести на экран. \n",
    "# Задачу выполнять без использования условного оператора.\n",
    "# Входные данные - Hello Hell\n",
    "# Данные на выходе - True\n",
    "a, b = input().split()\n",
    "print(a[1:len(b):2]==b[1::2])\n",
    "\n"
   ]
  }
 ],
 "metadata": {
  "interpreter": {
   "hash": "2be5faf79681da6f2a61fdfdd5405d65d042280f7fba6178067603e3a2925119"
  },
  "kernelspec": {
   "display_name": "Python 3.10.2 64-bit",
   "language": "python",
   "name": "python3"
  },
  "language_info": {
   "codemirror_mode": {
    "name": "ipython",
    "version": 3
   },
   "file_extension": ".py",
   "mimetype": "text/x-python",
   "name": "python",
   "nbconvert_exporter": "python",
   "pygments_lexer": "ipython3",
   "version": "3.10.2"
  },
  "orig_nbformat": 4
 },
 "nbformat": 4,
 "nbformat_minor": 2
}
